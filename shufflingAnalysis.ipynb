{
 "cells": [
  {
   "cell_type": "markdown",
   "id": "41cc16eb",
   "metadata": {},
   "source": [
    "## This notebook is solely to be able to perform the shuffling analysis on a separate notebook"
   ]
  },
  {
   "cell_type": "code",
   "execution_count": 1,
   "id": "1a6f875f",
   "metadata": {},
   "outputs": [],
   "source": [
    "# Downloaded libraries\n",
    "from matplotlib import pyplot as plt\n",
    "import numpy as np\n",
    "import pynwb\n",
    "\n",
    "# Own libraries\n",
    "import main"
   ]
  },
  {
   "cell_type": "code",
   "execution_count": 2,
   "id": "a77a3d84",
   "metadata": {},
   "outputs": [],
   "source": [
    "directory = \"data\\TestPlitt\"\n",
    "\n",
    "# # SHUFFLE RUN 0\n",
    "# handledFiles = [\"sub-F1_ses-20190407T210000_behavior+ophys_small.nwb\",\\\n",
    "#                \"sub-F2_ses-20190417T210000_behavior+ophys_small.nwb\",\\\n",
    "#                \"sub-R1_ses-20190211T210000_behavior+ophys_small.nwb\",\\\n",
    "#                \"sub-R1_ses-20190223T210000_behavior+ophys_small.nwb\"]\n",
    "\n",
    "# # SHUFFLE RUN 1\n",
    "# handledFiles = [\"sub-F2_ses-20190407T210000_behavior+ophys_small.nwb\",\\\n",
    "#                \"sub-F5_ses-20190418T210000_behavior+ophys_small.nwb\",\\\n",
    "#                \"sub-R2_ses-20190209T210000_behavior+ophys_small.nwb\",\\\n",
    "#                \"sub-R2_ses-20190221T210000_behavior+ophys_small.nwb\"]\n",
    "\n",
    "# # SHUFFLE RUN 2\n",
    "# handledFiles = [\"sub-F2_ses-20190407T210000_behavior+ophys_small.nwb\",\\\n",
    "#                \"sub-F1_ses-20190416T210000_behavior+ophys_small.nwb\",\\\n",
    "#                \"sub-R3_ses-20190211T210000_behavior+ophys_small.nwb\",\\\n",
    "#                \"sub-R3_ses-20190223T210000_behavior+ophys_small.nwb\"]\n",
    "\n",
    "# SHUFFLE RUN 3\n",
    "handledFiles = [\"sub-F5_ses-20190407T210000_behavior+ophys_small.nwb\",\\\n",
    "               \"sub-F2_ses-20190416T210000_behavior+ophys_small.nwb\",\\\n",
    "               \"sub-R4_ses-20190824T210000_behavior+ophys_small.nwb\",\\\n",
    "               \"sub-R4_ses-20190905T210000_behavior+ophys_small.nwb\"]"
   ]
  },
  {
   "cell_type": "code",
   "execution_count": 3,
   "id": "2d12db5e",
   "metadata": {},
   "outputs": [],
   "source": [
    "nNeurons = {}\n",
    "deconvTraces = {}\n",
    "startIndices = {}\n",
    "baseMorph = {}\n",
    "position = {}\n",
    "nTrials = {}\n",
    "\n",
    "readFiles = [main.getSessionHandle(file, directory) for file in handledFiles]\n",
    "nFiles = len(readFiles)\n",
    "\n",
    "for i, file in enumerate(readFiles):\n",
    "    data = main.dataExtraction(readFiles[i].read())\n",
    "\n",
    "    # nFrames = data[\"nFrames\"]\n",
    "    nNeurons[i] = data[\"nNeurons\"]\n",
    "    deconvTraces[i] = data[\"deconvTraces\"]\n",
    "    # tstartData = data[\"tstartData\"]\n",
    "    nTrials[i] = data[\"nTrials\"]\n",
    "    startIndices[i] = data[\"startIndices\"]\n",
    "    baseMorph[i] = data[\"baseMorph\"]\n",
    "    # totalMorph = data[\"totalMorph\"]\n",
    "    position[i] = data[\"position\"]"
   ]
  },
  {
   "cell_type": "code",
   "execution_count": 4,
   "id": "cd5193eb",
   "metadata": {},
   "outputs": [
    {
     "name": "stdout",
     "output_type": "stream",
     "text": [
      "Current date and time: 2023-08-12 18:29:48.590697\n"
     ]
    }
   ],
   "source": [
    "import datetime\n",
    "current_time = datetime.datetime.now()\n",
    "print(\"Current date and time:\", current_time)"
   ]
  },
  {
   "cell_type": "code",
   "execution_count": 5,
   "id": "8186f5a9",
   "metadata": {},
   "outputs": [],
   "source": [
    "dbs = {}\n",
    "pbs = {}\n",
    "shifted_pbs = {}\n",
    "\n",
    "df = {}\n",
    "occp = {}\n",
    "\n",
    "baseMorphList = {i:baseMorph[i][startIndices[i]] for i in range(nFiles)} \n",
    "\n",
    "nShuffles = 100\n",
    "\n",
    "# SIMatrix = {i:np.zeros((nNeurons[i], 5)) for i in range(nFiles)}\n",
    "# baseMorphList = {i:baseMorph[i][startIndices[i]] for i in range(nFiles)} \n",
    "\n",
    "# This will store the mega arrays off all SIs for all shuffles for each handled file\n",
    "allSIs = {i:[] for i in range(nFiles)}\n",
    "\n",
    "for iteration in range(nShuffles):\n",
    "    SIMatrix = {i:np.zeros((nNeurons[i], 5)) for i in range(nFiles)}\n",
    "    for i in range(nFiles):\n",
    "        dbs[i], pbs[i] = main.trialize(deconvTraces[i], position[i], startIndices[i])\n",
    "        shift_amounts = np.random.rand(nTrials[i], nNeurons[i])\n",
    "        shifted_dbs = []\n",
    "        for trial in range(nTrials[i]):\n",
    "            nFrames = len(dbs[i][trial])\n",
    "            shuffleIndex = np.tile(np.arange(nFrames), nNeurons[i]).reshape(-1,nFrames)\n",
    "            shuffleIndex += (nFrames * shift_amounts[trial].reshape(-1, 1)).astype(int)\n",
    "            shuffleIndex = (shuffleIndex % nFrames).astype(int)\n",
    "            shifted_dbs.append(dbs[i][trial].T[np.arange(nNeurons[i])[:, None], shuffleIndex].T)\n",
    "            \n",
    "            \n",
    "        df[i], occp[i] = main.positionalBin(shifted_dbs, pbs[i])\n",
    "        del shifted_dbs\n",
    " \n",
    "        for n in range(nNeurons[i]):\n",
    "            SIMatrix[i][n,:] = main.getSpatialInformation(df[i][:,:,n], occp[i], baseMorphList[i])\n",
    "        \n",
    "        allSIs[i].append(SIMatrix[i])"
   ]
  },
  {
   "cell_type": "code",
   "execution_count": 6,
   "id": "71b29260",
   "metadata": {},
   "outputs": [
    {
     "name": "stdout",
     "output_type": "stream",
     "text": [
      "Current date and time: 2023-08-12 19:10:46.339160\n"
     ]
    }
   ],
   "source": [
    "current_time = datetime.datetime.now()\n",
    "print(\"Current date and time:\", current_time)"
   ]
  },
  {
   "cell_type": "code",
   "execution_count": 7,
   "id": "923231eb",
   "metadata": {},
   "outputs": [],
   "source": [
    "## BE CAREFUL TO CHANGE THIS VARIABLE EVERY TIME\n",
    "nRun = 3 # IF IN DOUBT CHANGE\n",
    "# CHANGE CHANGE CHANGE CHANGE CHANGE CHANGE CHANGE CHANGE CHANGE CHANGE\n",
    "# CHANGE CHANGE CHANGE CHANGE CHANGE CHANGE CHANGE CHANGE CHANGE CHANGE\n",
    "\n",
    "np.savez(f'shuffleRun{nRun}.npz', F_early = allSIs[0], F_late = allSIs[1], R_early = allSIs[2]\\\n",
    "                , R_late = allSIs[3])"
   ]
  }
 ],
 "metadata": {
  "kernelspec": {
   "display_name": "Python 3 (ipykernel)",
   "language": "python",
   "name": "python3"
  },
  "language_info": {
   "codemirror_mode": {
    "name": "ipython",
    "version": 3
   },
   "file_extension": ".py",
   "mimetype": "text/x-python",
   "name": "python",
   "nbconvert_exporter": "python",
   "pygments_lexer": "ipython3",
   "version": "3.10.9"
  }
 },
 "nbformat": 4,
 "nbformat_minor": 5
}
