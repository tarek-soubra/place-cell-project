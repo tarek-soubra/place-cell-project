{
 "cells": [
  {
   "cell_type": "markdown",
   "id": "919db8cd",
   "metadata": {},
   "source": [
    "# Notebook to extract place cell information from the dataset"
   ]
  },
  {
   "cell_type": "markdown",
   "id": "ccf54729",
   "metadata": {},
   "source": [
    "Import the necessary libraries (including the `pynwb` package)"
   ]
  },
  {
   "cell_type": "code",
   "execution_count": 1,
   "id": "91f4755e",
   "metadata": {},
   "outputs": [],
   "source": [
    "from pathlib import Path\n",
    "\n",
    "from matplotlib import pyplot as plt\n",
    "import numpy as np\n",
    "import pynwb"
   ]
  },
  {
   "cell_type": "markdown",
   "id": "90bfb6c9",
   "metadata": {},
   "source": [
    "### File reading and information"
   ]
  },
  {
   "cell_type": "code",
   "execution_count": 2,
   "id": "49f57ddc",
   "metadata": {},
   "outputs": [],
   "source": [
    "# Set filepath name to read it with NWB\n",
    "filepath = Path(\"data\\TestPlitt\", \"sub-R2_ses-20190219T210000_behavior+ophys_small.nwb\")\n",
    "\n",
    "read_io = pynwb.NWBHDF5IO(filepath, \"r\")\n",
    "read_nwbfile = read_io.read()\n"
   ]
  },
  {
   "cell_type": "code",
   "execution_count": 3,
   "id": "0b48d886",
   "metadata": {},
   "outputs": [
    {
     "name": "stdout",
     "output_type": "stream",
     "text": [
      "Subject info:\n",
      "    genotype     : CaMKII-cre hemizygous\n",
      "    sex          : MALE\n",
      "    species      : Mus musculus\n",
      "    subject_id   : R2\n",
      "    weight       : 23.0 g\n",
      "    date_of_birth: 2018-11-06 21:00:00-08:00\n",
      "\n",
      "Session info:\n",
      "    date/time  : 2019-02-19 21:00:00-08:00\n",
      "    description: TwoTower_foraging_002_003\n"
     ]
    }
   ],
   "source": [
    "# Print out file information. This would be from one session\n",
    "print(\"Subject info:\")\n",
    "for key, value in read_nwbfile.subject.fields.items():\n",
    "    print(f\"    {key:13}: {value}\")\n",
    "\n",
    "print(\"\\nSession info:\")    \n",
    "print(f\"    date/time  : {read_nwbfile.session_start_time}\")\n",
    "print(f\"    description: {read_nwbfile.session_description}\")"
   ]
  },
  {
   "cell_type": "markdown",
   "id": "50bbabd4",
   "metadata": {},
   "source": [
    "### Store some key information"
   ]
  },
  {
   "cell_type": "code",
   "execution_count": 4,
   "id": "9e115fdb",
   "metadata": {},
   "outputs": [
    {
     "name": "stdout",
     "output_type": "stream",
     "text": [
      "31932 frames x 2050 neurons\n"
     ]
    }
   ],
   "source": [
    "# Neuronal traces from ROIs\n",
    "ROI_traces = read_nwbfile.processing[\"ophys\"][\"Fluorescence\"][\"RoiResponseSeries\"].data\n",
    "nFrames, nNeurons = ROI_traces.shape\n",
    "print(\"{} frames x {} neurons\".format(*ROI_traces.shape))\n",
    "\n",
    "# Deconvolved activity traces\n",
    "deconvTraces = read_nwbfile.processing[\"ophys\"][\"Fluorescence\"][\"Deconvolved\"].data\n"
   ]
  },
  {
   "cell_type": "code",
   "execution_count": 27,
   "id": "737f17ae",
   "metadata": {},
   "outputs": [
    {
     "name": "stdout",
     "output_type": "stream",
     "text": [
      "<class 'h5py._hl.dataset.Dataset'>\n",
      "Number of trials for this session is:  120\n"
     ]
    }
   ],
   "source": [
    "# information of start time for every trial\n",
    "tstartData = read_nwbfile.processing[\"behavior\"][\"BehavioralTimeSeries\"][\"tstart\"].data\n",
    "print(type(deconvTraces))\n",
    "nTrials = int(sum(tstartData))\n",
    "print(\"Number of trials for this session is: \", nTrials)\n",
    "\n",
    "# Matrix that stores where the starting points for each trial is\n",
    "# Useful to divide trials\n",
    "startIndices = np.where(tstartData)[0]"
   ]
  },
  {
   "cell_type": "code",
   "execution_count": 6,
   "id": "cad0c3de",
   "metadata": {},
   "outputs": [],
   "source": [
    "# morph value for each trial (total morph taken as base morph + jitter)\n",
    "baseMorph = read_nwbfile.stimulus[\"morph\"].data[()]\n",
    "wallJitter = read_nwbfile.stimulus[\"wallJitter\"].data[()]\n",
    "totalMorph = baseMorph + wallJitter\n",
    "\n",
    "# Position of the rat over the session\n",
    "position = read_nwbfile.processing[\"behavior\"][\"BehavioralTimeSeries\"][\"pos\"].data[()]"
   ]
  },
  {
   "cell_type": "markdown",
   "id": "64e3bcc3",
   "metadata": {},
   "source": [
    "<div class=\"alert alert-block alert-info\"> Important to note we will be using the <b>baseMorph</b> here. It will be used to classify the trials per morph (and get a place cell classification per session per morph value) </div>"
   ]
  },
  {
   "cell_type": "markdown",
   "id": "c8295c15",
   "metadata": {},
   "source": [
    "#### Define function to positionally bin the data\n",
    "## START OF UNUSED CODE"
   ]
  },
  {
   "cell_type": "code",
   "execution_count": 8,
   "id": "da119e94",
   "metadata": {},
   "outputs": [],
   "source": [
    "# def positionalBin(data, pos):\n",
    "#     bins = np.arange(0, 4.51, 0.1)\n",
    "#     avgResp = np.zeros(len(bins))\n",
    "#     counterArr = np.zeros(len(bins))\n",
    "\n",
    "#     for i in range(len(bins)-1):\n",
    "#         counter = 0 # to keep track of how many data points, to average after accumulation\n",
    "#         for j in range(len(pos)):\n",
    "#             if (bins[i] <= pos[j] < bins[i+1]): # if the position falls within the interval\n",
    "#                 avgResp[i] = avgResp[i] + data[j] # keep accumulating the fluoresence data points in this interval\n",
    "#                 counter = counter + 1 # keeps track of how many data points are added to average in the end\n",
    "#         if counter != 0: # to avoid dividing by zero if there aren't any datapoints in a bin\n",
    "#             counterArr[i] = counter    # store the counter per positional bin \n",
    "#             avgResp[i] = avgResp[i]/counter # gets average of the sum after all values in phi have been looped over\n",
    "#     return avgResp, counterArr\n"
   ]
  },
  {
   "cell_type": "code",
   "execution_count": null,
   "id": "d0ecf7e3",
   "metadata": {},
   "outputs": [],
   "source": [
    "# # Number of positional bins\n",
    "# nBins = 46\n",
    "\n",
    "# # Creating the dataframe with trials x bins\n",
    "# df = np.zeros([nTrials, nBins])\n",
    "# occp = np.zeros([nTrials, nBins])\n",
    "\n",
    "# # Which cell are we performing the binning on?\n",
    "# cellTrace = deconvTraces[:,0]\n",
    "\n",
    "# # Make sure to add data for last trial DONE\n",
    "# for i in range(nTrials):\n",
    "#     if i < nTrials - 1:\n",
    "#         l = int(startIndices[i])\n",
    "#         r = int(startIndices[i+1])\n",
    "#         df[i,:], occp[i,:] = positionalBin(cellTrace[l:r], position[l:r])\n",
    "#     else:\n",
    "#         l = int(startIndices[i])\n",
    "#         df[i,:], occp[i,:] = positionalBin(cellTrace[l:], position[l:])\n",
    "#     # df[i,:] = cellActivity/np.mean(cellActivity)\n",
    "\n"
   ]
  },
  {
   "cell_type": "code",
   "execution_count": null,
   "id": "926236b2",
   "metadata": {},
   "outputs": [],
   "source": [
    "# trialOccp = np.sum(occp[:,:], axis = 1)\n",
    "# partialOccp = occp / trialOccp.reshape(-1,1)"
   ]
  },
  {
   "cell_type": "code",
   "execution_count": null,
   "id": "fabf3b4d",
   "metadata": {},
   "outputs": [],
   "source": [
    "# plt.plot(partialOccp[119,:])"
   ]
  },
  {
   "cell_type": "markdown",
   "id": "32646a97",
   "metadata": {},
   "source": [
    "### TO DO LIST:\n",
    "- Return positional occupancy rate per trial (DONE, we have total time per trial in a session and partial occupancy of each bin within a trial)\n",
    "- Vectorize the binning function DONE\n",
    "- Binning function can handle all the neurons in the session DONE\n",
    "- SI calculation with new occupancy rate and aggregated neuronal activity per morph value and occupancy (DONE)"
   ]
  },
  {
   "cell_type": "code",
   "execution_count": 10,
   "id": "b139c971",
   "metadata": {},
   "outputs": [],
   "source": [
    "# def trialize(data, pos, startIndices):\n",
    "#     myIndices = np.append(startIndices, len(data))\n",
    "#     datablocks = [np.array(data[myIndices[i]:myIndices[i+1]]) for i in range(len(myIndices)-1)]\n",
    "#     posblocks = [np.array(pos[myIndices[i]:myIndices[i+1]]) for i in range(len(myIndices)-1)]\n",
    "#     np.array(datablocks,dtype=object)\n",
    "#     np.array(posblocks,dtype=object)\n",
    "    \n",
    "#     return datablocks, posblocks"
   ]
  },
  {
   "cell_type": "code",
   "execution_count": 8,
   "id": "190b124d",
   "metadata": {},
   "outputs": [],
   "source": [
    "# def positionalBinVec2(datablocks, posblocks): # This positional binning function takes in the output from trialize\n",
    "#     nTrials = len(datablocks)\n",
    "#     bins = np.arange(0, 4.51, 0.1)\n",
    "#     accResp = np.zeros((nTrials,len(bins)))\n",
    "#     counterMat = np.zeros((nTrials,len(bins)-1))\n",
    "    \n",
    "#     for i in range(nTrials):\n",
    "#         # Array of indices indicating which bin each timepoint belongs to, and count of how many elements per bin\n",
    "#         binInds = np.digitize(posblocks[i],bins) - 1\n",
    "#         counterMat[i,:] = np.histogram(posblocks[i],bins)[0]\n",
    "#         tempAcc = np.zeros_like(len(bins)-1)\n",
    "        \n",
    "#         # accumulate all values in bin\n",
    "#         np.add.at(accResp[i,:], binInds, datablocks[i])\n",
    "        \n",
    "    \n",
    "#     return accResp[:,:-1], counterMat"
   ]
  },
  {
   "cell_type": "code",
   "execution_count": 9,
   "id": "adc757ca",
   "metadata": {},
   "outputs": [],
   "source": [
    "# # This will need to be looped over to generate SI for all cells (deconvTraces[:,i])\n",
    "# dblocks, pblocks = trialize(deconvTraces[:,4], position, startIndices)\n",
    "# df, occp = positionalBinVec2(dblocks, pblocks)"
   ]
  },
  {
   "cell_type": "markdown",
   "id": "52a458c0",
   "metadata": {},
   "source": [
    "## END OF UNUSED CODE"
   ]
  },
  {
   "cell_type": "markdown",
   "id": "147d5cba",
   "metadata": {},
   "source": [
    "### Classify per morph value"
   ]
  },
  {
   "cell_type": "markdown",
   "id": "9ab5ffd1",
   "metadata": {},
   "source": [
    "The mathematical equation to identify a place cell is using a spatial information metric:\n",
    "\n",
    "`SI = summ(p_j x lambda_j x log2(lambda_j/lambda))`\n",
    "\n",
    "Where:\n",
    "- p_j is the fractional occupancy of each bin j (how much time is spent in each bin)\n",
    "- lambda_j is the average activity rate of a cell in position bin j \n",
    "- lambda is the position-averaged activity rate of the cell\n",
    "\n",
    "We need to do this for each of the 5 seperate base morph values `S = 0, 0.25, 0.5, 0.75, 1` "
   ]
  },
  {
   "cell_type": "code",
   "execution_count": 15,
   "id": "6a7bd73a",
   "metadata": {},
   "outputs": [],
   "source": [
    "# Function that calculates the spatial information for one cell for each of the 5 different baseMorph values\n",
    "def GetSI(df, occp, baseMorphList):\n",
    "    \n",
    "    # Each might have a different amount of trials\n",
    "    base0 = np.where(baseMorphList == 0   )[0]\n",
    "    base1 = np.where(baseMorphList == 0.25)[0]\n",
    "    base2 = np.where(baseMorphList == 0.5 )[0]\n",
    "    base3 = np.where(baseMorphList == 0.75)[0]\n",
    "    base4 = np.where(baseMorphList == 1   )[0]\n",
    "     \n",
    "    \n",
    "    # Matrix is defined since we are reducing down to one averaged trial for each baseMorph\n",
    "    nBins = 45\n",
    "    aggBase = np.zeros([5, nBins])\n",
    "    \n",
    "    # Averaging across all trials with the same baseMorph\n",
    "    aggBase[0,:] = np.sum(df[base0,:], axis = 0) / np.sum(occp[base0,:], axis = 0)\n",
    "    aggBase[1,:] = np.sum(df[base1,:], axis = 0) / np.sum(occp[base1,:], axis = 0)\n",
    "    aggBase[2,:] = np.sum(df[base2,:], axis = 0) / np.sum(occp[base2,:], axis = 0)\n",
    "    aggBase[3,:] = np.sum(df[base3,:], axis = 0) / np.sum(occp[base3,:], axis = 0)\n",
    "    aggBase[4,:] = np.sum(df[base4,:], axis = 0) / np.sum(occp[base4,:], axis = 0)\n",
    "    \n",
    "    # Calculating the partial occupancy ratio for each spatial bin\n",
    "    aggOccBase = np.zeros([5,nBins])\n",
    "\n",
    "    aggOccBase[0,:] = np.sum(occp[base0,:], axis = 0) / np.sum(occp[base0,:])\n",
    "    aggOccBase[1,:] = np.sum(occp[base1,:], axis = 0) / np.sum(occp[base1,:])\n",
    "    aggOccBase[2,:] = np.sum(occp[base2,:], axis = 0) / np.sum(occp[base2,:])\n",
    "    aggOccBase[3,:] = np.sum(occp[base3,:], axis = 0) / np.sum(occp[base3,:])\n",
    "    aggOccBase[4,:] = np.sum(occp[base4,:], axis = 0) / np.sum(occp[base4,:])\n",
    "    \n",
    "    # LOOP \n",
    "    # calculation of the spatial information metric\n",
    "    SI = np.zeros(5)\n",
    "    for i in range(5):\n",
    "        # position-averaged activity rate of the cell across the trial\n",
    "        lmbda = np.mean(aggBase[i,:])\n",
    "        logTerm = np.log2((aggBase[i,:]+1e-5)/lmbda) # + 1 necessary due to using deconv data (log2(0) = -inf)\n",
    "        SIPre = (aggOccBase[i,:] * aggBase[i,:] * logTerm)\n",
    "        SI[i] = np.sum(SIPre)\n",
    "        \n",
    "    return SI    "
   ]
  },
  {
   "cell_type": "code",
   "execution_count": 28,
   "id": "806bb763",
   "metadata": {},
   "outputs": [
    {
     "data": {
      "text/plain": [
       "<matplotlib.image.AxesImage at 0x2e0bf522a00>"
      ]
     },
     "execution_count": 28,
     "metadata": {},
     "output_type": "execute_result"
    },
    {
     "data": {
      "image/png": "[encoded data removed]",
      "text/plain": [
       "<Figure size 640x480 with 1 Axes>"
      ]
     },
     "metadata": {},
     "output_type": "display_data"
    }
   ],
   "source": [
    "plt.imshow(SIMatrix[placeCells], aspect = 'auto')"
   ]
  },
  {
   "cell_type": "code",
   "execution_count": 38,
   "id": "290bd72a",
   "metadata": {},
   "outputs": [
    {
     "name": "stdout",
     "output_type": "stream",
     "text": [
      "120\n",
      "(202,)\n"
     ]
    }
   ],
   "source": [
    "dbs, pbs = trialize(deconvTraces, position, startIndices)\n",
    "print(len(dbs))\n",
    "dbs2, pbs2 = trialize(deconvTraces[:,1], position, startIndices)\n",
    "print(np.shape(pbs2[50]))"
   ]
  },
  {
   "cell_type": "markdown",
   "id": "73fbf5a8",
   "metadata": {},
   "source": [
    "##### trials x nb neurons x trial length\n",
    "##### trials x 1 x trial length"
   ]
  },
  {
   "cell_type": "code",
   "execution_count": 26,
   "id": "b4507909",
   "metadata": {},
   "outputs": [],
   "source": [
    "# SIMatrix = np.zeros((nNeurons, 5))\n",
    "# baseMorphList = baseMorph[startIndices]\n",
    "\n",
    "# for i in range(nNeurons):\n",
    "#     dblocks, pblocks = trialize(deconvTraces[:,i], position, startIndices)\n",
    "#     df, occp = positionalBinVec2(dblocks, pblocks)\n",
    "#     SIMatrix[i,:] = GetSI(df, occp, baseMorphList)"
   ]
  },
  {
   "cell_type": "code",
   "execution_count": 29,
   "id": "cfd00e91",
   "metadata": {},
   "outputs": [
    {
     "name": "stdout",
     "output_type": "stream",
     "text": [
      "(120, 45, 2050)\n"
     ]
    }
   ],
   "source": [
    "SIMatrix = np.zeros((nNeurons, 5))\n",
    "baseMorphList = baseMorph[startIndices]\n",
    "\n",
    "dblocks, pblocks = trialize(deconvTraces, position, startIndices)\n",
    "df, occp = positionalBinVec3(dblocks, pblocks)"
   ]
  },
  {
   "cell_type": "code",
   "execution_count": 35,
   "id": "94233571",
   "metadata": {},
   "outputs": [],
   "source": [
    "for i in range(nNeurons):\n",
    "    SIMatrix[i,:] = GetSI(df[:,:,i], occp, baseMorphList)"
   ]
  },
  {
   "cell_type": "code",
   "execution_count": 36,
   "id": "2e78cb6f",
   "metadata": {},
   "outputs": [
    {
     "name": "stdout",
     "output_type": "stream",
     "text": [
      "134 place cells with a threshold of SI = 16.504736928643023\n",
      "[   0    1    3    4    5    6    7    8   11   13   14   15   16   17\n",
      "   20   22   23   25   27   30   31   32   41   43   45   46   47   51\n",
      "   54   56   59   60   61   63   65   67   70   73   74   79   80   81\n",
      "   88   97   98  100  101  103  107  108  124  128  129  135  143  146\n",
      "  149  156  159  169  178  179  183  186  187  189  190  195  197  203\n",
      "  205  210  212  213  221  223  226  228  232  237  242  243  245  249\n",
      "  254  256  258  266  273  279  285  287  289  291  295  301  309  328\n",
      "  335  339  357  359  363  365  375  393  394  433  438  439  442  451\n",
      "  468  473  474  486  526  550  559  581  624  696  752  807  812  854\n",
      "  857  860  924 1118 1123 1308 1331 1688]\n"
     ]
    }
   ],
   "source": [
    "threshold = np.percentile(SIMatrix, 98)\n",
    "placeCells = np.unique(np.where(SIMatrix > threshold)[0])\n",
    "print(len(placeCells), \"place cells with a threshold of SI =\", threshold )\n",
    "print(placeCells)"
   ]
  },
  {
   "cell_type": "markdown",
   "id": "823d6dfa",
   "metadata": {},
   "source": [
    "## SI calculation for one ROI trace"
   ]
  },
  {
   "cell_type": "code",
   "execution_count": 13,
   "id": "c3d4b797",
   "metadata": {},
   "outputs": [
    {
     "name": "stdout",
     "output_type": "stream",
     "text": [
      "30 trials of base morph 0\n",
      "20 trials of base morph 0.25\n",
      "20 trials of base morph 0.5\n",
      "20 trials of base morph 0.75\n",
      "30 trials of base morph 1\n"
     ]
    }
   ],
   "source": [
    "dblocks, pblocks = trialize(deconvTraces[:,0], position, startIndices)\n",
    "df, occp = positionalBinVec2(dblocks, pblocks)\n",
    "# Setting up the aggregation of trials with the same base morph\n",
    "baseMorphList = baseMorph[startIndices]; # Gives an array of size 120 (number of trials) with each element representing the\n",
    "# base morph for the corresponding trial\n",
    "\n",
    "base0 = np.where(baseMorphList == 0   )[0]\n",
    "base1 = np.where(baseMorphList == 0.25)[0]\n",
    "base2 = np.where(baseMorphList == 0.5 )[0]\n",
    "base3 = np.where(baseMorphList == 0.75)[0]\n",
    "base4 = np.where(baseMorphList == 1   )[0]\n",
    "\n",
    "print(len(base0), \"trials of base morph 0\")\n",
    "print(len(base1), \"trials of base morph 0.25\")\n",
    "print(len(base2), \"trials of base morph 0.5\")\n",
    "print(len(base3), \"trials of base morph 0.75\")\n",
    "print(len(base4), \"trials of base morph 1\")"
   ]
  },
  {
   "cell_type": "code",
   "execution_count": 14,
   "id": "66be695c",
   "metadata": {},
   "outputs": [
    {
     "data": {
      "text/plain": [
       "[<matplotlib.lines.Line2D at 0x1f7bbb582b0>]"
      ]
     },
     "execution_count": 14,
     "metadata": {},
     "output_type": "execute_result"
    },
    {
     "data": {
      "image/png": "[encoded data removed]",
      "text/plain": [
       "<Figure size 640x480 with 5 Axes>"
      ]
     },
     "metadata": {},
     "output_type": "display_data"
    }
   ],
   "source": [
    "# Initializing the matrices for each base morph value, setting them up for aggregation\n",
    "\n",
    "trialsBase0 = df[base0,:]\n",
    "trialsBase1 = df[base1,:]\n",
    "trialsBase2 = df[base2,:]\n",
    "trialsBase3 = df[base3,:]\n",
    "trialsBase4 = df[base4,:]\n",
    "\n",
    "nBins = 45\n",
    "aggBase = np.zeros([5, nBins])\n",
    "# Averaging across all trials with the same baseMorph\n",
    "aggBase[0,:] = np.sum(trialsBase0, axis = 0) / np.sum(occp[base0,:], axis = 0)\n",
    "aggBase[1,:] = np.sum(trialsBase1, axis = 0) / np.sum(occp[base1,:], axis = 0)\n",
    "aggBase[2,:] = np.sum(trialsBase2, axis = 0) / np.sum(occp[base2,:], axis = 0)\n",
    "aggBase[3,:] = np.sum(trialsBase3, axis = 0) / np.sum(occp[base3,:], axis = 0)\n",
    "aggBase[4,:] = np.sum(trialsBase4, axis = 0) / np.sum(occp[base4,:], axis = 0)\n",
    "\n",
    "plt.figure(1)\n",
    "plt.subplot(3,2,1)\n",
    "plt.plot(aggBase[0,:])\n",
    "plt.subplot(3,2,2)\n",
    "plt.plot(aggBase[1,:])\n",
    "plt.subplot(3,2,3)\n",
    "plt.plot(aggBase[2,:])\n",
    "plt.subplot(3,2,4)\n",
    "plt.plot(aggBase[3,:])\n",
    "plt.subplot(3,2,5)\n",
    "plt.plot(aggBase[4,:])\n"
   ]
  },
  {
   "cell_type": "code",
   "execution_count": 16,
   "id": "4d955691",
   "metadata": {},
   "outputs": [],
   "source": [
    "# Aggregation of partial occupancies for each base morph value (summing up occupancy per bin,\n",
    "# dividing by total time spent in that base value)\n",
    "aggOccBase = np.zeros([5,nBins])\n",
    "\n",
    "aggOccBase[0,:] = np.sum(occp[base0,:], axis = 0) / np.sum(occp[base0,:])\n",
    "aggOccBase[1,:] = np.sum(occp[base1,:], axis = 0) / np.sum(occp[base1,:])\n",
    "aggOccBase[2,:] = np.sum(occp[base2,:], axis = 0) / np.sum(occp[base2,:])\n",
    "aggOccBase[3,:] = np.sum(occp[base3,:], axis = 0) / np.sum(occp[base3,:])\n",
    "aggOccBase[4,:] = np.sum(occp[base4,:], axis = 0) / np.sum(occp[base4,:])\n"
   ]
  },
  {
   "cell_type": "code",
   "execution_count": 17,
   "id": "6348961a",
   "metadata": {},
   "outputs": [],
   "source": [
    "# For one cell, 5 base morphs\n",
    "SI = np.zeros(5)\n",
    "\n",
    "for i in range(5):\n",
    "    # position-averaged activity rate of the cell across the trial\n",
    "    lmbda = np.mean(aggBase[i,:])\n",
    "    logTerm = np.log2((aggBase[i,:]+1e-5)/lmbda) # + 1 necessary due to using deconv data (log2(0) = -inf)\n",
    "    SIPre = (aggOccBase[i,:] * aggBase[i,:] * logTerm)\n",
    "    SI[i] = np.sum(SIPre)\n",
    "    "
   ]
  },
  {
   "cell_type": "code",
   "execution_count": 18,
   "id": "65e277b1",
   "metadata": {},
   "outputs": [
    {
     "name": "stdout",
     "output_type": "stream",
     "text": [
      "[ 1.15652835  2.45219729 30.07901673 37.11033839 47.10186132]\n"
     ]
    }
   ],
   "source": [
    "print(SI)"
   ]
  },
  {
   "cell_type": "markdown",
   "id": "567429e8",
   "metadata": {},
   "source": [
    "<font size = '3'> We can see that this cell carries the most information for base morph values of 0.5, 0.75, 1, and very little for 0 and 0.25.<br> This is in agreement with what we see graphically above. </font>\n"
   ]
  },
  {
   "cell_type": "markdown",
   "id": "47c60b4e",
   "metadata": {},
   "source": [
    "### Divide cell into trials based on startIndices\n",
    "\n",
    "this prepares the data for the positional binning, it takes the long neuronal data array and transforms it into two dimensions, rows corresponding to trials"
   ]
  },
  {
   "cell_type": "code",
   "execution_count": 7,
   "id": "819e1138",
   "metadata": {},
   "outputs": [],
   "source": [
    "def trialize(data, pos, startIndices):\n",
    "    myIndices = np.append(startIndices, len(data))\n",
    "    datablocks = [data[myIndices[i]:myIndices[i+1]] for i in range(len(myIndices)-1)]\n",
    "    posblocks = [pos[myIndices[i]:myIndices[i+1]] for i in range(len(myIndices)-1)]\n",
    "    np.array(datablocks,dtype=object)\n",
    "    np.array(posblocks,dtype=object)\n",
    "    \n",
    "    return datablocks, posblocks\n"
   ]
  },
  {
   "cell_type": "markdown",
   "id": "8b123bdc",
   "metadata": {},
   "source": [
    "### Vectorized Binning Function"
   ]
  },
  {
   "cell_type": "code",
   "execution_count": null,
   "id": "b95dd590",
   "metadata": {},
   "outputs": [],
   "source": [
    "# def positionalBinVec(data, pos):\n",
    "#     bins = np.arange(0, 4.51, 0.1)\n",
    "#     accResp = np.zeros_like(bins)\n",
    "    \n",
    "    \n",
    "#     # Array of indices indicating which bin each timepoint belongs to, and count of how many elements per bin\n",
    "#     binInds = np.digitize(pos,bins)\n",
    "#     counterArr = np.histogram(pos,bins)[0]\n",
    "    \n",
    "#     # accumulate all values in bin\n",
    "#     # datapoints falling outside the bins (reward region) are tacked onto the end of the resultant array\n",
    "#     np.add.at(accResp, binInds-1, data)\n",
    "    \n",
    "    \n",
    "#     return accResp[:-1], counterArr"
   ]
  },
  {
   "cell_type": "code",
   "execution_count": null,
   "id": "ccbb280b",
   "metadata": {},
   "outputs": [],
   "source": [
    "# # Number of positional bins\n",
    "# mynBins = 45\n",
    "\n",
    "# # Creating the dataframe with trials x bins\n",
    "# mydf = np.zeros([nTrials, mynBins])\n",
    "# myoccp = np.zeros([nTrials, mynBins])\n",
    "\n",
    "# # Which cell are we performing the binning on?\n",
    "# cellTrace = deconvTraces[:,0]\n",
    "\n",
    "# # Make sure to add data for last trial DONE\n",
    "# for i in range(nTrials):\n",
    "#     if i < nTrials - 1:\n",
    "#         l = int(startIndices[i])\n",
    "#         r = int(startIndices[i+1])\n",
    "#         mydf[i,:], myoccp[i,:] = positionalBinVec(cellTrace[l:r], position[l:r])\n",
    "#     else:\n",
    "#         l = int(startIndices[i])\n",
    "#         mydf[i,:], myoccp[i,:] = positionalBinVec(cellTrace[l:], position[l:])"
   ]
  },
  {
   "cell_type": "markdown",
   "id": "64c35676",
   "metadata": {},
   "source": [
    "### Alternative positional binning function\n",
    "\n",
    "The binning function was previously designed in a way to handle each trial on its own. It is fed the trials via a for loop that goes through the data matrix using the startIndices as limits to chop it up for each run of the positionalBin function.\n",
    "\n",
    "The below code takes the 'trialized' data as input, and runs a for loop inside to accumulate the data from each trial. The output is then a <b>nTrials x nBins</b> matrix each for the accumulated response and the occupancy matrices.\n",
    "\n",
    "##### Note:\n",
    "There remains a for loop in this function, one that iterates over the trials. At the moment I do not see a way to overcome this, I need to figure out how to use digitize, histogram, and np.add.at in 2D."
   ]
  },
  {
   "cell_type": "code",
   "execution_count": null,
   "id": "8472eede",
   "metadata": {},
   "outputs": [],
   "source": [
    "# def positionalBinVec2(datablocks, posblocks): # This positional binning function takes in the output from trialize\n",
    "#     nTrials = len(datablocks)\n",
    "#     bins = np.arange(0, 4.51, 0.1)\n",
    "#     accResp = np.zeros((nTrials,len(bins)))\n",
    "#     counterMat = np.zeros((nTrials,len(bins)-1))\n",
    "    \n",
    "#     for i in range(nTrials):\n",
    "#         # Array of indices indicating which bin each timepoint belongs to, and count of how many elements per bin\n",
    "#         binInds = np.digitize(posblocks[i],bins) - 1\n",
    "#         counterMat[i,:] = np.histogram(posblocks[i],bins)[0]\n",
    "#         tempAcc = np.zeros_like(len(bins)-1)\n",
    "        \n",
    "#         # accumulate all values in bin\n",
    "#         np.add.at(accResp[i,:], binInds, datablocks[i])\n",
    "        \n",
    "    \n",
    "#     return accResp[:,:-1], counterMat"
   ]
  },
  {
   "cell_type": "code",
   "execution_count": null,
   "id": "183dba35",
   "metadata": {},
   "outputs": [],
   "source": [
    "# # Number of positional bins\n",
    "# mynBins = 45\n",
    "\n",
    "# dbs, pbs = trialize(cellTrace, position, startIndices)\n",
    "\n",
    "# mydf2, myoccp2 = positionalBinVec2(dbs, pbs)"
   ]
  },
  {
   "cell_type": "code",
   "execution_count": null,
   "id": "91d6db93",
   "metadata": {},
   "outputs": [],
   "source": [
    "# a = mydf2[:,:]/myoccp2[:,:]\n",
    "# b = mydf[:,:]/myoccp[:,:]\n",
    "# np.isclose(a,b).all()\n",
    "\n",
    "# #i = 5\n",
    "# #print(mydf2[i,:]/myoccp2[i,:]) # From positionalBinVec2\n",
    "# #print(mydf[i,:]/myoccp[i,:])   # From positionalBinVec\n",
    "# #print(df[i,:])                 # From positionalBin "
   ]
  },
  {
   "cell_type": "markdown",
   "id": "6be85e24",
   "metadata": {},
   "source": [
    "# Testing area"
   ]
  },
  {
   "cell_type": "code",
   "execution_count": null,
   "id": "1df914d9",
   "metadata": {},
   "outputs": [],
   "source": [
    "mybinedges = [0,5,10,15]\n",
    "mypos = np.array([[0,1,1,2,4,5,6,7,7,9,-5,10,12,13],[0,1,1,3,5,6,6,7,8,9,-1,9,9,9]])\n",
    "mybininds = np.digitize(mypos,mybinedges)\n",
    "mycounter = np.histogram(mypos, mybinedges)[0]\n",
    "mydata = np.array([[1,1,1,0,0,0,0,0,1,1,0,1,1,1], [1,1,1,0,0,0,0,0,1,1,0,1,1,1]])\n",
    "          \n",
    "\n",
    "binned_data = np.zeros((2,4), int)\n",
    "# np.add.at(binned_data, mybininds-1, mydata)\n",
    "idx = np.arange(len(mybininds))\n",
    "#np.add.at(binned_data, (np.arange(mydata.shape[0]), mybininds), mydata)\n",
    "\n",
    "print(mybininds)\n",
    "print(mycounter)\n",
    "print(np.shape(mydata))\n",
    "\n",
    "a = np.tile(np.arange(mydata.shape[0]).reshape(2,1), 14)\n",
    "# print(binned_data[(a, mybininds-1)])\n",
    "np.add.at(binned_data, (a,mybininds-1), mydata)\n",
    "print(binned_data)\n",
    "\n",
    "# The issue is that each data row has a different number of elements. I cannot create the 'a' matrix properly... for now"
   ]
  },
  {
   "cell_type": "code",
   "execution_count": 8,
   "id": "209a0824",
   "metadata": {},
   "outputs": [],
   "source": [
    "def positionalBinVec3(datablocks, posblocks): # This positional binning function takes in the output from trialize\n",
    "    nTrials = len(datablocks) # This is still okay\n",
    "    bins = np.arange(0, 4.51, 0.1)\n",
    "    accResp = np.zeros((nTrials,len(bins),nNeurons)) # New dimension added, nNeurons\n",
    "    counterMat = np.zeros((nTrials,len(bins)-1))\n",
    "    \n",
    "    for i in range(nTrials):\n",
    "        # Array of indices indicating which bin each timepoint belongs to, and count of how many elements per bin\n",
    "        binInds = np.digitize(posblocks[i],bins) - 1\n",
    "        counterMat[i,:] = np.histogram(posblocks[i],bins)[0]\n",
    "#         tempAcc = np.zeros_like(len(bins)-1)\n",
    "        \n",
    "        # accumulate all values in bin\n",
    "        np.add.at(accResp[i,:,:], binInds, datablocks[i][:])\n",
    "        \n",
    "    \n",
    "    return accResp[:,:-1,:], counterMat"
   ]
  },
  {
   "cell_type": "code",
   "execution_count": 14,
   "id": "a680971e",
   "metadata": {},
   "outputs": [],
   "source": [
    "SIMatrix = np.zeros((nNeurons, 5))\n",
    "baseMorphList = baseMorph[startIndices]\n",
    "\n",
    "dblocks, pblocks = trialize(deconvTraces, position, startIndices)\n",
    "df, occp = positionalBinVec3(dblocks, pblocks)\n"
   ]
  },
  {
   "cell_type": "code",
   "execution_count": 16,
   "id": "e423bb30",
   "metadata": {},
   "outputs": [],
   "source": [
    "for i in range(nNeurons):\n",
    "    SIMatrix[i,:] = GetSI(df[:,:,i], occp, baseMorphList)"
   ]
  },
  {
   "cell_type": "markdown",
   "id": "4bba3f08",
   "metadata": {},
   "source": [
    "#### Identify which ROIs are place cells for each given baseMorph"
   ]
  },
  {
   "cell_type": "code",
   "execution_count": 17,
   "id": "71851f6b",
   "metadata": {},
   "outputs": [
    {
     "name": "stdout",
     "output_type": "stream",
     "text": [
      "65 place cells for base morph = 0, with a threshold of SI = 14.330555940761043\n",
      "[   4    8    9   17   19   20   23   27   30   31   32   45   54   60\n",
      "   61   65   70   86   87   98  107  124  128  135  143  149  156  159\n",
      "  178  189  197  205  212  221  226  232  249  254  279  285  287  295\n",
      "  335  339  357  359  365  410  442  451  492  510  513  550  559  571\n",
      "  624  631  696  752  854  924 1118 1308 1688]\n"
     ]
    }
   ],
   "source": [
    "threshold = np.percentile(SIMatrix, 97)\n",
    "# placeCells = np.unique(np.where(SIMatrix > threshold)[0])\n",
    "placeCells_morph0 = np.where(SIMatrix[:,0] > threshold)[0]\n",
    "placeCells_morph1 = np.where(SIMatrix[:,1] > threshold)[0]\n",
    "placeCells_morph2 = np.where(SIMatrix[:,2] > threshold)[0]\n",
    "placeCells_morph3 = np.where(SIMatrix[:,3] > threshold)[0]\n",
    "placeCells_morph4 = np.where(SIMatrix[:,4] > threshold)[0]\n",
    "\n",
    "\n",
    "print(len(placeCells_morph0), \"place cells for base morph = 0, with a threshold of SI =\", threshold )\n",
    "print(placeCells_morph0)\n"
   ]
  },
  {
   "cell_type": "markdown",
   "id": "eee1262f",
   "metadata": {},
   "source": [
    "#### Get the average activity of chosen cells in trials at each respective morph"
   ]
  },
  {
   "cell_type": "code",
   "execution_count": 26,
   "id": "fcc16b9e",
   "metadata": {},
   "outputs": [],
   "source": [
    "# Needed: average activity of placeCells_morph0 in \"base0\" trials\n",
    "\n",
    "# df containing activity of morph0 place cells\n",
    "df_0 = df[:,:,placeCells_morph0]\n",
    "df_1 = df[:,:,placeCells_morph1] \n",
    "df_2 = df[:,:,placeCells_morph2]\n",
    "df_3 = df[:,:,placeCells_morph3]\n",
    "df_4 = df[:,:,placeCells_morph4]\n",
    "\n",
    "# base morph for the corresponding trial\n",
    "\n",
    "base0 = np.where(baseMorphList == 0   )[0]\n",
    "base1 = np.where(baseMorphList == 0.25)[0]\n",
    "base2 = np.where(baseMorphList == 0.5 )[0]\n",
    "base3 = np.where(baseMorphList == 0.75)[0]\n",
    "base4 = np.where(baseMorphList == 1   )[0]\n",
    "\n",
    "  \n",
    "# Averaging across all trials with the same baseMorph\n",
    "avgAct0_placeCells0 = np.sum(df_0[base0,:,:], axis = 0) / np.sum(occp[base0,:], axis = 0).reshape(45,1)\n",
    "avgAct1_placeCells0 = np.sum(df_0[base1,:,:], axis = 0) / np.sum(occp[base1,:], axis = 0).reshape(45,1)\n",
    "avgAct2_placeCells0 = np.sum(df_0[base2,:,:], axis = 0) / np.sum(occp[base2,:], axis = 0).reshape(45,1)\n",
    "avgAct3_placeCells0 = np.sum(df_0[base3,:,:], axis = 0) / np.sum(occp[base3,:], axis = 0).reshape(45,1)\n",
    "avgAct4_placeCells0 = np.sum(df_0[base4,:,:], axis = 0) / np.sum(occp[base4,:], axis = 0).reshape(45,1)\n",
    "\n",
    "# Averaging across all trials with the same baseMorph\n",
    "avgAct0_placeCells1 = np.sum(df_1[base0,:,:], axis = 0) / np.sum(occp[base0,:], axis = 0).reshape(45,1)\n",
    "avgAct1_placeCells1 = np.sum(df_1[base1,:,:], axis = 0) / np.sum(occp[base1,:], axis = 0).reshape(45,1)\n",
    "avgAct2_placeCells1 = np.sum(df_1[base2,:,:], axis = 0) / np.sum(occp[base2,:], axis = 0).reshape(45,1)\n",
    "avgAct3_placeCells1 = np.sum(df_1[base3,:,:], axis = 0) / np.sum(occp[base3,:], axis = 0).reshape(45,1)\n",
    "avgAct4_placeCells1 = np.sum(df_1[base4,:,:], axis = 0) / np.sum(occp[base4,:], axis = 0).reshape(45,1)\n",
    "\n",
    "# Averaging across all trials with the same baseMorph\n",
    "avgAct0_placeCells2 = np.sum(df_2[base0,:,:], axis = 0) / np.sum(occp[base0,:], axis = 0).reshape(45,1)\n",
    "avgAct1_placeCells2 = np.sum(df_2[base1,:,:], axis = 0) / np.sum(occp[base1,:], axis = 0).reshape(45,1)\n",
    "avgAct2_placeCells2 = np.sum(df_2[base2,:,:], axis = 0) / np.sum(occp[base2,:], axis = 0).reshape(45,1)\n",
    "avgAct3_placeCells2 = np.sum(df_2[base3,:,:], axis = 0) / np.sum(occp[base3,:], axis = 0).reshape(45,1)\n",
    "avgAct4_placeCells2 = np.sum(df_2[base4,:,:], axis = 0) / np.sum(occp[base4,:], axis = 0).reshape(45,1)\n",
    "\n",
    "# Averaging across all trials with the same baseMorph\n",
    "avgAct0_placeCells3 = np.sum(df_3[base0,:,:], axis = 0) / np.sum(occp[base0,:], axis = 0).reshape(45,1)\n",
    "avgAct1_placeCells3 = np.sum(df_3[base1,:,:], axis = 0) / np.sum(occp[base1,:], axis = 0).reshape(45,1)\n",
    "avgAct2_placeCells3 = np.sum(df_3[base2,:,:], axis = 0) / np.sum(occp[base2,:], axis = 0).reshape(45,1)\n",
    "avgAct3_placeCells3 = np.sum(df_3[base3,:,:], axis = 0) / np.sum(occp[base3,:], axis = 0).reshape(45,1)\n",
    "avgAct4_placeCells3 = np.sum(df_3[base4,:,:], axis = 0) / np.sum(occp[base4,:], axis = 0).reshape(45,1)\n",
    "\n",
    "# Averaging across all trials with the same baseMorph\n",
    "avgAct0_placeCells4 = np.sum(df_4[base0,:,:], axis = 0) / np.sum(occp[base0,:], axis = 0).reshape(45,1)\n",
    "avgAct1_placeCells4 = np.sum(df_4[base1,:,:], axis = 0) / np.sum(occp[base1,:], axis = 0).reshape(45,1)\n",
    "avgAct2_placeCells4 = np.sum(df_4[base2,:,:], axis = 0) / np.sum(occp[base2,:], axis = 0).reshape(45,1)\n",
    "avgAct3_placeCells4 = np.sum(df_4[base3,:,:], axis = 0) / np.sum(occp[base3,:], axis = 0).reshape(45,1)\n",
    "avgAct4_placeCells4 = np.sum(df_4[base4,:,:], axis = 0) / np.sum(occp[base4,:], axis = 0).reshape(45,1)\n",
    "\n",
    "\n"
   ]
  },
  {
   "cell_type": "markdown",
   "id": "77bb7f76",
   "metadata": {},
   "source": [
    "### Testing for rose-gold plot"
   ]
  },
  {
   "cell_type": "code",
   "execution_count": 25,
   "id": "137d0564",
   "metadata": {},
   "outputs": [
    {
     "name": "stdout",
     "output_type": "stream",
     "text": [
      "[1 2 3 0]\n"
     ]
    }
   ],
   "source": [
    "testarray = np.array([ 3, 2, 2, 2])\n",
    "idxarray = [1,2,3,0]\n",
    "print(np.argsort(testarray))"
   ]
  },
  {
   "cell_type": "code",
   "execution_count": 43,
   "id": "e2721540",
   "metadata": {},
   "outputs": [
    {
     "name": "stdout",
     "output_type": "stream",
     "text": [
      "[48  3 27 36 12 37 19  0  5 30  2  4 28 40 20 15  7 33 46  1 23  9 24 31\n",
      " 43  8 16 14 10 21 32 34 39 22 45 25 18 41 13  6 35 50 29 42 17 26 49 44\n",
      " 11 38 47]\n"
     ]
    },
    {
     "name": "stderr",
     "output_type": "stream",
     "text": [
      "C:\\Users\\tarek\\AppData\\Local\\Temp\\ipykernel_26260\\2643713151.py:12: DeprecationWarning: Please use `gaussian_filter` from the `scipy.ndimage` namespace, the `scipy.ndimage.filters` namespace is deprecated.\n",
      "  A = filters.gaussian_filter(A,sig)\n",
      "C:\\Users\\tarek\\AppData\\Local\\Temp\\ipykernel_26260\\2643713151.py:13: DeprecationWarning: Please use `gaussian_filter` from the `scipy.ndimage` namespace, the `scipy.ndimage.filters` namespace is deprecated.\n",
      "  One = filters.gaussian_filter(One,sig)\n"
     ]
    },
    {
     "data": {
      "text/plain": [
       "<matplotlib.image.AxesImage at 0x2930b3db8b0>"
      ]
     },
     "execution_count": 43,
     "metadata": {},
     "output_type": "execute_result"
    },
    {
     "data": {
      "image/png": "[encoded data removed]",
      "text/plain": [
       "<Figure size 640x480 with 1 Axes>"
      ]
     },
     "metadata": {},
     "output_type": "display_data"
    }
   ],
   "source": [
    "df_0 = df[:,:,placeCells_morph0]\n",
    "base0 = np.where(baseMorphList == 0   )[0]\n",
    "avgAct0_placeCells0 = np.sum(df_0[base0,:,:], axis = 0) / np.sum(occp[base0,:], axis = 0).reshape(45,1)\n",
    "\n",
    "print(np.argsort(np.argmax(avgAct1_placeCells1,axis=0)))\n",
    "\n",
    "cellsToPlot = np.transpose(avgAct4_placeCells3[:,np.argsort(np.argmax(avgAct3_placeCells3,axis=0))])\n",
    "plt.imshow(figsmooth(cellsToPlot,[0,3]),cmap='copper')\n",
    "# plt.imshow(cellsToPlot,cmap='copper')\n",
    "\n",
    "# print(np.shape(base0))\n",
    "# The goal: list of size nCellsx1, containing number indicating which row should be plotted first\n",
    "# based on where the peak occurs. e.g. if 4th row is to be plotted first => [4,3,2,1]"
   ]
  },
  {
   "cell_type": "code",
   "execution_count": null,
   "id": "1234c5d3",
   "metadata": {},
   "outputs": [],
   "source": []
  },
  {
   "cell_type": "code",
   "execution_count": 16,
   "id": "6a79348d",
   "metadata": {},
   "outputs": [],
   "source": [
    "from scipy.ndimage import filters\n",
    "def figsmooth(A,sig):\n",
    "    '''apply Gaussian smoothing to matrix A containing nans with kernel sig\n",
    "    without propogating nans'''\n",
    "\n",
    "    # find zero indices to weight the smoothing matrix\n",
    "    zero_inds = np.where(A == 0)\n",
    "\n",
    "    # inversely weight zero indices\n",
    "    One = np.ones(A.shape)\n",
    "    One[zero_inds] = .001\n",
    "    A = filters.gaussian_filter(A,sig)\n",
    "    One = filters.gaussian_filter(One,sig)\n",
    "    return A/One"
   ]
  },
  {
   "cell_type": "code",
   "execution_count": null,
   "id": "b5cd2056",
   "metadata": {},
   "outputs": [],
   "source": [
    "figsmooth(df,[0,3])"
   ]
  }
 ],
 "metadata": {
  "kernelspec": {
   "display_name": "Python 3 (ipykernel)",
   "language": "python",
   "name": "python3"
  },
  "language_info": {
   "codemirror_mode": {
    "name": "ipython",
    "version": 3
   },
   "file_extension": ".py",
   "mimetype": "text/x-python",
   "name": "python",
   "nbconvert_exporter": "python",
   "pygments_lexer": "ipython3",
   "version": "3.10.9"
  }
 },
 "nbformat": 4,
 "nbformat_minor": 5
}
