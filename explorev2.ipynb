{
 "cells": [
  {
   "cell_type": "markdown",
   "id": "2ee261b2",
   "metadata": {},
   "source": [
    "# Notebook to extract place cell information from the dataset"
   ]
  },
  {
   "cell_type": "markdown",
   "id": "ccf54729",
   "metadata": {},
   "source": [
    "Import the necessary libraries (including the `pynwb` package)"
   ]
  },
  {
   "cell_type": "code",
   "execution_count": 1,
   "id": "91f4755e",
   "metadata": {},
   "outputs": [],
   "source": [
    "from pathlib import Path\n",
    "\n",
    "from matplotlib import pyplot as plt\n",
    "import numpy as np\n",
    "import pynwb"
   ]
  },
  {
   "cell_type": "markdown",
   "id": "90bfb6c9",
   "metadata": {},
   "source": [
    "### File reading and information"
   ]
  },
  {
   "cell_type": "code",
   "execution_count": 2,
   "id": "49f57ddc",
   "metadata": {},
   "outputs": [],
   "source": [
    "# Set filepath name to read it with NWB\n",
    "filepath = Path(\"data\\TestPlitt\", \"sub-R2_ses-20190219T210000_behavior+ophys_small.nwb\")\n",
    "\n",
    "read_io = pynwb.NWBHDF5IO(filepath, \"r\")\n",
    "read_nwbfile = read_io.read()\n"
   ]
  },
  {
   "cell_type": "code",
   "execution_count": 3,
   "id": "0b48d886",
   "metadata": {},
   "outputs": [
    {
     "name": "stdout",
     "output_type": "stream",
     "text": [
      "Subject info:\n",
      "    genotype     : CaMKII-cre hemizygous\n",
      "    sex          : MALE\n",
      "    species      : Mus musculus\n",
      "    subject_id   : R2\n",
      "    weight       : 23.0 g\n",
      "    date_of_birth: 2018-11-06 21:00:00-08:00\n",
      "\n",
      "Session info:\n",
      "    date/time  : 2019-02-19 21:00:00-08:00\n",
      "    description: TwoTower_foraging_002_003\n"
     ]
    }
   ],
   "source": [
    "# Print out file information. This would be from one session\n",
    "print(\"Subject info:\")\n",
    "for key, value in read_nwbfile.subject.fields.items():\n",
    "    print(f\"    {key:13}: {value}\")\n",
    "\n",
    "print(\"\\nSession info:\")    \n",
    "print(f\"    date/time  : {read_nwbfile.session_start_time}\")\n",
    "print(f\"    description: {read_nwbfile.session_description}\")"
   ]
  },
  {
   "cell_type": "markdown",
   "id": "50bbabd4",
   "metadata": {},
   "source": [
    "### Store some key information"
   ]
  },
  {
   "cell_type": "code",
   "execution_count": 4,
   "id": "9e115fdb",
   "metadata": {},
   "outputs": [
    {
     "name": "stdout",
     "output_type": "stream",
     "text": [
      "31932 frames x 2050 neurons\n"
     ]
    }
   ],
   "source": [
    "# Neuronal traces from ROIs\n",
    "ROI_traces = read_nwbfile.processing[\"ophys\"][\"Fluorescence\"][\"RoiResponseSeries\"].data\n",
    "nFrames, nNeurons = ROI_traces.shape\n",
    "print(\"{} frames x {} neurons\".format(*ROI_traces.shape))\n",
    "\n",
    "# Deconvolved activity traces\n",
    "deconvTraces = read_nwbfile.processing[\"ophys\"][\"Fluorescence\"][\"Deconvolved\"].data\n"
   ]
  },
  {
   "cell_type": "code",
   "execution_count": 5,
   "id": "737f17ae",
   "metadata": {},
   "outputs": [
    {
     "name": "stdout",
     "output_type": "stream",
     "text": [
      "Number of trials for this session is:  120\n"
     ]
    }
   ],
   "source": [
    "# information of start time for every trial\n",
    "tstartData = read_nwbfile.processing[\"behavior\"][\"BehavioralTimeSeries\"][\"tstart\"].data[()]\n",
    "nTrials = int(sum(tstartData))\n",
    "print(\"Number of trials for this session is: \", nTrials)\n",
    "\n",
    "# Matrix that stores where the starting points for each trial is\n",
    "# Useful to divide trials\n",
    "startIndices = np.where(tstartData)[0]"
   ]
  },
  {
   "cell_type": "code",
   "execution_count": 6,
   "id": "cad0c3de",
   "metadata": {},
   "outputs": [],
   "source": [
    "# morph value for each trial (total morph taken as base morph + jitter)\n",
    "baseMorph = read_nwbfile.stimulus[\"morph\"].data[()]\n",
    "wallJitter = read_nwbfile.stimulus[\"wallJitter\"].data[()]\n",
    "totalMorph = baseMorph + wallJitter\n",
    "\n",
    "# Position of the rat over the session\n",
    "position = read_nwbfile.processing[\"behavior\"][\"BehavioralTimeSeries\"][\"pos\"].data[()]"
   ]
  },
  {
   "cell_type": "markdown",
   "id": "64e3bcc3",
   "metadata": {},
   "source": [
    "<div class=\"alert alert-block alert-info\"> Important to note we will be using the <b>baseMorph</b> here. It will be used to classify the trials per morph (and get a place cell classification per session per morph value) </div>"
   ]
  },
  {
   "cell_type": "markdown",
   "id": "c8295c15",
   "metadata": {},
   "source": [
    "#### Define function to positionally bin the data\n",
    "might be a good idea to vectorize this function"
   ]
  },
  {
   "cell_type": "code",
   "execution_count": 8,
   "id": "da119e94",
   "metadata": {},
   "outputs": [],
   "source": [
    "def positionalBin(data, pos):\n",
    "    bins = np.arange(0, 4.51, 0.1)\n",
    "    avgResp = np.zeros(len(bins))\n",
    "    counterArr = np.zeros(len(bins))\n",
    "\n",
    "    for i in range(len(bins)-1):\n",
    "        counter = 0 # to keep track of how many data points, to average after accumulation\n",
    "        for j in range(len(pos)):\n",
    "            if (bins[i] <= pos[j] < bins[i+1]): # if the position falls within the interval\n",
    "                avgResp[i] = avgResp[i] + data[j] # keep accumulating the fluoresence data points in this interval\n",
    "                counter = counter + 1 # keeps track of how many data points are added to average in the end\n",
    "        if counter != 0: # to avoid dividing by zero if there aren't any datapoints in a bin\n",
    "            counterArr[i] = counter    # store the counter per positional bin \n",
    "            avgResp[i] = avgResp[i]/counter # gets average of the sum after all values in phi have been looped over\n",
    "    return avgResp, counterArr\n"
   ]
  },
  {
   "cell_type": "code",
   "execution_count": 21,
   "id": "d0ecf7e3",
   "metadata": {},
   "outputs": [],
   "source": [
    "# Number of positional bins\n",
    "nBins = 46\n",
    "\n",
    "# Creating the dataframe with trials x bins\n",
    "df = np.zeros([nTrials, nBins])\n",
    "occp = np.zeros([nTrials, nBins])\n",
    "\n",
    "# Which cell are we performing the binning on?\n",
    "cellTrace = deconvTraces[:,0]\n",
    "\n",
    "# Make sure to add data for last trial DONE\n",
    "for i in range(nTrials):\n",
    "    if i < nTrials - 1:\n",
    "        l = int(startIndices[i])\n",
    "        r = int(startIndices[i+1])\n",
    "        df[i,:], occp[i,:] = positionalBin(cellTrace[l:r], position[l:r])\n",
    "    else:\n",
    "        l = int(startIndices[i])\n",
    "        df[i,:], occp[i,:] = positionalBin(cellTrace[l:], position[l:])\n",
    "    # df[i,:] = cellActivity/np.mean(cellActivity)\n",
    "\n"
   ]
  },
  {
   "cell_type": "code",
   "execution_count": 59,
   "id": "277cc996",
   "metadata": {},
   "outputs": [],
   "source": [
    "trialOccp = np.sum(occp[:,:], axis = 1)\n",
    "partialOccp = occp / trialOccp.reshape(-1,1)"
   ]
  },
  {
   "cell_type": "code",
   "execution_count": 62,
   "id": "fabf3b4d",
   "metadata": {},
   "outputs": [
    {
     "data": {
      "text/plain": [
       "[<matplotlib.lines.Line2D at 0x25357ef2160>]"
      ]
     },
     "execution_count": 62,
     "metadata": {},
     "output_type": "execute_result"
    },
    {
     "data": {
      "image/png": "[encoded data removed]",
      "text/plain": [
       "<Figure size 640x480 with 1 Axes>"
      ]
     },
     "metadata": {},
     "output_type": "display_data"
    }
   ],
   "source": [
    "plt.plot(partialOccp[119,:])"
   ]
  },
  {
   "cell_type": "markdown",
   "id": "32646a97",
   "metadata": {},
   "source": [
    "### TO DO LIST:\n",
    "- Return positional occupancy rate per trial (DONE, we have total time per trial in a session and partial occupancy of each bin within a trial)\n",
    "- Vectorize the binning function\n",
    "- Binning function can handle all the neurons in the session\n",
    "- SI calculation with new occupancy rate and aggregated neuronal activity per morph value and occupancy "
   ]
  },
  {
   "cell_type": "markdown",
   "id": "147d5cba",
   "metadata": {},
   "source": [
    "### Classify per morph value"
   ]
  },
  {
   "cell_type": "markdown",
   "id": "9ab5ffd1",
   "metadata": {},
   "source": [
    "The mathematical equation to identify a place cell is using a spatial information metric:\n",
    "\n",
    "`SI = summ(p_j x lambda_j x log2(lambda_j/lambda))`\n",
    "\n",
    "Where:\n",
    "- p_j is the fractional occupancy of each bin j (how much time is spent in each bin)\n",
    "- lambda_j is the average activity rate of a cell in position bin j \n",
    "- lambda is the position-averaged activity rate of the cell\n",
    "\n",
    "We need to do this for each of the 5 seperate base morph values `S = 0, 0.25, 0.5, 0.75, 1` "
   ]
  },
  {
   "cell_type": "code",
   "execution_count": 63,
   "id": "6348961a",
   "metadata": {},
   "outputs": [],
   "source": [
    "\n",
    "\n",
    "# For one cell, 120 trials\n",
    "SI = np.zeros(nTrials)\n",
    "\n",
    "for i in range(nTrials):\n",
    "    # position-averaged activity rate of the cell across the trial\n",
    "    lmbda = np.mean(df[i,:])\n",
    "    logTerm = np.log2((df[i,:]+1e-5)/lmbda) # + 1 necessary due to using deconv data (log2(0) = -inf)\n",
    "    SIPre = (partialOccp[i,:] * df[i,:] * logTerm)\n",
    "    SI[i] = np.sum(SIPre)\n",
    "    "
   ]
  },
  {
   "cell_type": "code",
   "execution_count": 64,
   "id": "65e277b1",
   "metadata": {},
   "outputs": [
    {
     "name": "stdout",
     "output_type": "stream",
     "text": [
      "[ 49.18714949  47.70868226  88.87622578  37.26759221  30.19553821\n",
      "  26.38446311  24.47105801  45.27233931 171.97925587  34.14961293\n",
      "  35.34646684  69.56728191  34.26989364  28.14226353  43.93019195\n",
      "  46.13481315  32.56681549  33.92205117  37.13806231  41.66016579\n",
      "  32.70205569  39.18342078  42.42940314 219.28028837  22.12589315\n",
      "  30.9620108   35.27236206  42.10447844  33.10644147  35.63585353\n",
      "  33.29418098  47.45295025  24.51994708  25.28009568  29.25975279\n",
      "  38.28701987  30.0697723   38.81691435  36.28482884  33.28820362\n",
      "  10.91673871  16.09456156  33.17038308  38.10149809  38.39718783\n",
      "  28.61403242 270.10324558  23.40002102  25.9556309   32.36828896\n",
      "  49.82789215  41.93047599  31.59732085  64.04788087  29.81166058\n",
      "  34.63636501 254.66754668  35.02270605  21.75671537  40.74075633\n",
      "  29.92046166  40.12261562  26.17844527  32.55405449 179.82110109\n",
      "  35.22163293  26.46995725  38.90069819  37.96960994 280.99203492\n",
      "  33.66566577  80.22367173  26.79764886  41.45864076  25.29014413\n",
      " 126.8904392   25.20714478  30.39486508 225.56084667  30.66088861\n",
      " 211.29588932  28.46260451 111.80015694  23.94479089 316.78761913\n",
      "  37.80194564  36.38741969  30.4190986   40.57925432  42.44948262\n",
      "  37.35896333  43.24987027  32.78077263  53.84901429  33.66568275\n",
      " 205.9126256   27.92711166  30.0973085   30.91283803  33.81760096\n",
      "  37.24656909  34.44928488 191.08218135  58.51671552  26.25152807\n",
      "  30.10640903  31.18794511  29.46452864  33.20592096 103.10664325\n",
      "  29.88718959  31.55108844  31.75594579  43.83603265  33.08326082\n",
      " 357.37098373  27.60615674  35.34140993  36.20329734  40.98546855]\n"
     ]
    }
   ],
   "source": [
    "print(SI)"
   ]
  },
  {
   "cell_type": "code",
   "execution_count": 65,
   "id": "c95bb249",
   "metadata": {},
   "outputs": [
    {
     "data": {
      "text/plain": [
       "[<matplotlib.lines.Line2D at 0x25357d90940>]"
      ]
     },
     "execution_count": 65,
     "metadata": {},
     "output_type": "execute_result"
    },
    {
     "data": {
      "image/png": "[encoded data removed]",
      "text/plain": [
       "<Figure size 640x480 with 1 Axes>"
      ]
     },
     "metadata": {},
     "output_type": "display_data"
    }
   ],
   "source": [
    "plt.plot(df[-1,:])"
   ]
  },
  {
   "cell_type": "code",
   "execution_count": 96,
   "id": "1d5cfc6f",
   "metadata": {},
   "outputs": [
    {
     "name": "stdout",
     "output_type": "stream",
     "text": [
      "14\n"
     ]
    }
   ],
   "source": [
    "aTest = np.array([5, 1, 2, 4, 9, 3, 4, 5])\n",
    "inds = np.where(aTest <5)[0]\n",
    "print(np.sum(aTest[inds]))"
   ]
  },
  {
   "cell_type": "code",
   "execution_count": 108,
   "id": "be0578a9",
   "metadata": {},
   "outputs": [
    {
     "data": {
      "text/plain": [
       "[<matplotlib.lines.Line2D at 0x2535a200700>]"
      ]
     },
     "execution_count": 108,
     "metadata": {},
     "output_type": "execute_result"
    },
    {
     "data": {
      "image/png": "[encoded data removed]",
      "text/plain": [
       "<Figure size 640x480 with 1 Axes>"
      ]
     },
     "metadata": {},
     "output_type": "display_data"
    }
   ],
   "source": [
    "plt.plot(baseMorph, lw=0, marker=\".\", ms=0.75, color=\"k\", alpha=0.8)"
   ]
  },
  {
   "cell_type": "code",
   "execution_count": 124,
   "id": "f4b59f3d",
   "metadata": {},
   "outputs": [
    {
     "name": "stdout",
     "output_type": "stream",
     "text": [
      "[0.   0.5  1.   1.   0.   0.25 0.75 0.75 0.75 0.5  0.   0.5  0.75 0.\n",
      " 1.   0.5  1.   0.75 0.5  1.   0.5  1.   0.25 1.   0.75 1.   0.25 0.5\n",
      " 0.   0.25 1.   0.25 0.25 0.   0.   1.   0.25 0.   0.   0.5  0.   0.5\n",
      " 0.75 0.75 0.25 0.25 1.   0.25 0.   0.   0.5  0.75 0.25 0.25 0.   1.\n",
      " 1.   1.   0.   1.   0.75 0.25 0.   0.75 0.75 0.75 1.   0.5  0.   0.75\n",
      " 1.   0.75 0.25 1.   1.   0.5  0.75 0.25 0.5  0.   0.75 0.   0.5  0.\n",
      " 1.   1.   0.25 0.   0.75 0.25 0.5  0.   0.75 1.   1.   0.5  0.   0.5\n",
      " 0.   0.75 0.   0.   1.   1.   1.   0.5  0.   0.25 0.   0.5  0.25 0.\n",
      " 0.25 1.   1.   1.   0.5  1.   0.   0.  ]\n"
     ]
    }
   ],
   "source": [
    "# original numpy matrix\n",
    "original_matrix = baseMorph\n",
    "\n",
    "# transform to desired numpy matrix\n",
    "diff = np.concatenate(([False], original_matrix[1:] != original_matrix[:-1])) # check where values differ\n",
    "desired_matrix = original_matrix[diff] # extract the differing values\n",
    "\n",
    "print(baseMorph[startIndices])"
   ]
  }
 ],
 "metadata": {
  "kernelspec": {
   "display_name": "Python 3 (ipykernel)",
   "language": "python",
   "name": "python3"
  },
  "language_info": {
   "codemirror_mode": {
    "name": "ipython",
    "version": 3
   },
   "file_extension": ".py",
   "mimetype": "text/x-python",
   "name": "python",
   "nbconvert_exporter": "python",
   "pygments_lexer": "ipython3",
   "version": "3.9.13"
  }
 },
 "nbformat": 4,
 "nbformat_minor": 5
}
