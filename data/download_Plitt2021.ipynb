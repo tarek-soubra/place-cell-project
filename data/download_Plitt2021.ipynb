{
 "cells": [
  {
   "cell_type": "markdown",
   "id": "da44b7cf",
   "metadata": {},
   "source": [
    "# Downloading data (Plitt & Giocomo, 2021)"
   ]
  },
  {
   "cell_type": "markdown",
   "id": "78cdb422",
   "metadata": {},
   "source": [
    "- This code uses a command line call, with the `!` marker.  \n",
    "- Any initial version warnings can be ignored.  \n",
    "- Estimated to take around **2 min** per file (~300-900 MB each).  \n",
    "- Required packages include `dandi` and `fsspec`."
   ]
  },
  {
   "cell_type": "markdown",
   "id": "c83c30b9",
   "metadata": {},
   "source": [
    "## Download the full dataset \n",
    "The full dataset (85 files) will be downloaded in sequence, and stored under `Plitt2021`.  \n",
    "If each file downloads in 2 min, should take about 3h total (~50 GB total)."
   ]
  },
  {
   "cell_type": "code",
   "execution_count": null,
   "id": "a0055f0e",
   "metadata": {},
   "outputs": [],
   "source": [
    "!python download_Plitt2021.py --output Plitt2021"
   ]
  },
  {
   "cell_type": "markdown",
   "id": "3207c324",
   "metadata": {},
   "source": [
    "## Download specific datasets, based on a partial string match\n",
    "Any file with the specified string in the name will be listed for download."
   ]
  },
  {
   "cell_type": "code",
   "execution_count": null,
   "id": "42c6ad59",
   "metadata": {},
   "outputs": [],
   "source": [
    "!python download_Plitt2021.py --output Plitt2021 --part \"sub-F2_ses-20190407\""
   ]
  }
 ],
 "metadata": {
  "kernelspec": {
   "display_name": "Python 3 (ipykernel)",
   "language": "python",
   "name": "python3"
  },
  "language_info": {
   "codemirror_mode": {
    "name": "ipython",
    "version": 3
   },
   "file_extension": ".py",
   "mimetype": "text/x-python",
   "name": "python",
   "nbconvert_exporter": "python",
   "pygments_lexer": "ipython3",
   "version": "3.10.8"
  }
 },
 "nbformat": 4,
 "nbformat_minor": 5
}
