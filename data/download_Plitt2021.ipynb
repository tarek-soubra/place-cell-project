{
 "cells": [
  {
   "cell_type": "markdown",
   "id": "da44b7cf",
   "metadata": {},
   "source": [
    "# Downloading data (Plitt & Giocomo, 2021)"
   ]
  },
  {
   "cell_type": "markdown",
   "id": "78cdb422",
   "metadata": {},
   "source": [
    "- This code uses a command line call, with the `!` marker.  \n",
    "- Required packages include `requests`, `aoihttp`, `fsspec`, and `dandi`.\n",
    "- Estimated to take around **2 min** per file (~300-900 MB each), with a rapid wired connection.  \n",
    "- For each file, sequentially, a cache file will temporarily appear in `nwb-cache`. Although the file will appear to be ~30GB, it does not actually take that space up on the disk, as it is actually a [sparse file](https://en.wikipedia.org/wiki/Sparse_file). "
   ]
  },
  {
   "cell_type": "markdown",
   "id": "c83c30b9",
   "metadata": {},
   "source": [
    "## Download the full dataset \n",
    "The full dataset (85 files) will be downloaded in sequence, and stored under `Plitt2021`.  \n",
    "If each file downloads in 2 min, should take about 3h total (~50 GB total)."
   ]
  },
  {
   "cell_type": "code",
   "execution_count": null,
   "id": "a0055f0e",
   "metadata": {},
   "outputs": [],
   "source": [
    "!python download_Plitt2021.py --output Plitt2021"
   ]
  },
  {
   "cell_type": "markdown",
   "id": "3207c324",
   "metadata": {},
   "source": [
    "## Download specific datasets, based on a partial string match\n",
    "Any file with the specified string in the name will be listed for download."
   ]
  },
  {
   "cell_type": "code",
   "execution_count": null,
   "id": "4a0dd8ff",
   "metadata": {},
   "outputs": [],
   "source": [
    "!python download_Plitt2021.py --output Plitt2021_part --part \"sub-F2_ses-20190407\""
   ]
  }
 ],
 "metadata": {
  "kernelspec": {
   "display_name": "Python 3 (ipykernel)",
   "language": "python",
   "name": "python3"
  },
  "language_info": {
   "codemirror_mode": {
    "name": "ipython",
    "version": 3
   },
   "file_extension": ".py",
   "mimetype": "text/x-python",
   "name": "python",
   "nbconvert_exporter": "python",
   "pygments_lexer": "ipython3",
   "version": "3.10.9"
  }
 },
 "nbformat": 4,
 "nbformat_minor": 5
}
